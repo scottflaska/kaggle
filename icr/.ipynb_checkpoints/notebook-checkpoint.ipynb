{
 "cells": [
  {
   "cell_type": "code",
   "execution_count": null,
   "id": "33a7c785-dbe6-4e68-aae7-1f0c93fcbe4e",
   "metadata": {
    "tags": []
   },
   "outputs": [],
   "source": [
    "#import numpy as np\n",
    "import pandas as pd\n",
    "import sklearn.ensemble as sk\n",
    "from sklearn.metrics import log_loss"
   ]
  },
  {
   "cell_type": "code",
   "execution_count": null,
   "id": "ddfca7d1-871b-4428-8855-3193728f733b",
   "metadata": {
    "tags": []
   },
   "outputs": [],
   "source": [
    "greeks = pd.read_csv(\"data/greeks.csv\")\n",
    "train = pd.read_csv(\"data/train.csv\")\n",
    "test = pd.read_csv(\"data/test.csv\")"
   ]
  },
  {
   "cell_type": "code",
   "execution_count": null,
   "id": "da4584c2-9fba-4768-86fd-101289098862",
   "metadata": {
    "tags": []
   },
   "outputs": [],
   "source": [
    "train.columns"
   ]
  },
  {
   "cell_type": "code",
   "execution_count": null,
   "id": "de6dea68-8c44-4a80-9578-2740c8482bb1",
   "metadata": {
    "tags": []
   },
   "outputs": [],
   "source": [
    "df = train\n"
   ]
  },
  {
   "cell_type": "code",
   "execution_count": null,
   "id": "7d30ae45-1170-4424-a5bd-353c282b0468",
   "metadata": {
    "tags": []
   },
   "outputs": [],
   "source": [
    "def get_predictors(df):\n",
    "    return df.drop(['Id','EJ','Class'], axis=1)\n",
    "\n",
    "def get_outcome(df):\n",
    "    return df[\"Class\"]"
   ]
  },
  {
   "cell_type": "code",
   "execution_count": null,
   "id": "c8fe3a58-0aa3-4a03-9ec1-da47a7599f22",
   "metadata": {
    "tags": []
   },
   "outputs": [],
   "source": [
    "n_rows = len(train)\n",
    "train_rows = round(0.8*n_rows)\n",
    "validate_rows = n_rows-train_rows\n",
    "train_subset = train.head(n = train_rows)\n",
    "validate_subset = train.tail(n = validate_rows)"
   ]
  },
  {
   "cell_type": "code",
   "execution_count": null,
   "id": "3dd4d53b-d0c2-4240-9ec8-f56dc17b9bbf",
   "metadata": {
    "tags": []
   },
   "outputs": [],
   "source": [
    "gbc = sk.HistGradientBoostingClassifier()\n",
    "model = gbc.fit(get_predictors(train_subset), get_outcome(train_subset))\n",
    "log_loss(get_outcome(validate_subset), model.predict_proba(get_predictors(validate_subset))) "
   ]
  },
  {
   "cell_type": "code",
   "execution_count": 161,
   "id": "baff2c64-98f2-458e-a2a1-4177d0d81573",
   "metadata": {
    "tags": []
   },
   "outputs": [
    {
     "data": {
      "text/plain": [
       "0.11759379582531995"
      ]
     },
     "execution_count": 161,
     "metadata": {},
     "output_type": "execute_result"
    }
   ],
   "source": []
  }
 ],
 "metadata": {
  "kernelspec": {
   "display_name": "Python 3 (ipykernel)",
   "language": "python",
   "name": "python3"
  },
  "language_info": {
   "codemirror_mode": {
    "name": "ipython",
    "version": 3
   },
   "file_extension": ".py",
   "mimetype": "text/x-python",
   "name": "python",
   "nbconvert_exporter": "python",
   "pygments_lexer": "ipython3",
   "version": "3.10.11"
  }
 },
 "nbformat": 4,
 "nbformat_minor": 5
}
