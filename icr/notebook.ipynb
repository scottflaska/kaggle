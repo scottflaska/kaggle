{
 "cells": [
  {
   "cell_type": "code",
   "execution_count": 99,
   "id": "33a7c785-dbe6-4e68-aae7-1f0c93fcbe4e",
   "metadata": {
    "tags": []
   },
   "outputs": [],
   "source": [
    "#import numpy as np\n",
    "import pandas as pd\n",
    "import sklearn.ensemble as sk\n",
    "from sklearn.metrics import log_loss"
   ]
  },
  {
   "cell_type": "code",
   "execution_count": 100,
   "id": "ddfca7d1-871b-4428-8855-3193728f733b",
   "metadata": {
    "tags": []
   },
   "outputs": [],
   "source": [
    "greeks = pd.read_csv(\"data/greeks.csv\")\n",
    "train = pd.read_csv(\"data/train.csv\")\n",
    "test = pd.read_csv(\"data/test.csv\")"
   ]
  },
  {
   "cell_type": "code",
   "execution_count": 101,
   "id": "a50300c4-28b7-48e6-9eec-ab19ec06226a",
   "metadata": {},
   "outputs": [],
   "source": [
    "train_head = train.head(n = 400)\n",
    "validate = train.tail(n = 100)\n",
    "train_head_x = train_head[[\"AB\",\"AF\",\"AH\"]]\n",
    "validate_x = validate[[\"AB\",\"AF\",\"AH\"]]\n",
    "train_head_y = train_head[\"Class\"]\n",
    "validate_y = validate[\"Class\"]"
   ]
  },
  {
   "cell_type": "code",
   "execution_count": 104,
   "id": "ae619e48-bac0-4920-a7e3-da73a0178d37",
   "metadata": {
    "tags": []
   },
   "outputs": [
    {
     "data": {
      "text/plain": [
       "0.4662054052101143"
      ]
     },
     "execution_count": 104,
     "metadata": {},
     "output_type": "execute_result"
    }
   ],
   "source": [
    "gbc = sk.GradientBoostingClassifier(n_estimators=1000, learning_rate=1.0, max_depth=1, random_state=0)\n",
    "\n",
    "model = gbc.fit(train_head_x, train_head_y)\n",
    "\n",
    "log_loss(validate_y, model.predict_proba(validate_x)) \n",
    "\n",
    "#model.score(validate_x, validate_y) "
   ]
  }
 ],
 "metadata": {
  "kernelspec": {
   "display_name": "Python 3 (ipykernel)",
   "language": "python",
   "name": "python3"
  },
  "language_info": {
   "codemirror_mode": {
    "name": "ipython",
    "version": 3
   },
   "file_extension": ".py",
   "mimetype": "text/x-python",
   "name": "python",
   "nbconvert_exporter": "python",
   "pygments_lexer": "ipython3",
   "version": "3.10.11"
  }
 },
 "nbformat": 4,
 "nbformat_minor": 5
}
