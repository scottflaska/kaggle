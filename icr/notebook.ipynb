{
 "cells": [
  {
   "cell_type": "code",
   "execution_count": 1,
   "id": "33a7c785-dbe6-4e68-aae7-1f0c93fcbe4e",
   "metadata": {
    "tags": []
   },
   "outputs": [],
   "source": [
    "#import numpy as np\n",
    "import pandas as pd\n",
    "import sklearn.ensemble as sk"
   ]
  },
  {
   "cell_type": "code",
   "execution_count": 2,
   "id": "ddfca7d1-871b-4428-8855-3193728f733b",
   "metadata": {
    "tags": []
   },
   "outputs": [],
   "source": [
    "greeks = pd.read_csv(\"data/greeks.csv\")\n",
    "train = pd.read_csv(\"data/train.csv\")\n",
    "test = pd.read_csv(\"data/test.csv\")"
   ]
  },
  {
   "cell_type": "code",
   "execution_count": null,
   "id": "a50300c4-28b7-48e6-9eec-ab19ec06226a",
   "metadata": {},
   "outputs": [
    {
     "data": {
      "text/plain": [
       "array([1, 0, 0, 0, 1, 0, 0, 0, 0, 0, 1, 0, 0, 1, 0, 0, 0, 0, 0, 0, 0, 0,\n",
       "       0, 0, 0, 0, 0, 0, 0, 0, 0, 1, 1, 0, 0, 0, 1, 0, 0, 0, 0, 1, 0, 0,\n",
       "       0, 0, 0, 0, 0, 1, 0, 0, 0, 0, 0, 0, 0, 0, 0, 0, 0, 0, 0, 0, 0, 0,\n",
       "       0, 0, 0, 0, 0, 0, 0, 0, 0, 1, 1, 0, 0, 1, 0, 0, 0, 0, 0, 0, 0, 0,\n",
       "       1, 0, 0, 1, 0, 1, 0, 1, 1, 0, 0, 0])"
      ]
     },
     "execution_count": 3,
     "metadata": {},
     "output_type": "execute_result"
    }
   ],
   "source": [
    "train_head = train.head(\n",
    "\n",
    "train_head_x = train_head[[\"AB\",\"AF\",\"AH\"]]\n",
    "\n",
    "train_head_y = train_head[[\"Class\"]]\n",
    "\n",
    "train_head['Class'].to_numpy()\n",
    "\n",
    "#gbc = sk.GradientBoostingClassifier(n_estimators=100, learning_rate=1.0, max_depth=1, random_state=0)\n",
    "\n",
    "#gbc.fit(train_head_x, train_head_y)\n",
    "\n",
    "#fit(X_train, y_train)\n",
    "#clf.score(X_test, y_test)\n",
    "n = 100)"
   ]
  }
 ],
 "metadata": {
  "kernelspec": {
   "display_name": "Python 3 (ipykernel)",
   "language": "python",
   "name": "python3"
  },
  "language_info": {
   "codemirror_mode": {
    "name": "ipython",
    "version": 3
   },
   "file_extension": ".py",
   "mimetype": "text/x-python",
   "name": "python",
   "nbconvert_exporter": "python",
   "pygments_lexer": "ipython3",
   "version": "3.10.11"
  }
 },
 "nbformat": 4,
 "nbformat_minor": 5
}
